{
    "cells": [
        {
            "cell_type": "markdown",
            "metadata": {
                "collapsed": true
            },
            "source": "# Coursera Capstone Project"
        },
        {
            "cell_type": "markdown",
            "metadata": {},
            "source": "# The Battle of Neighborhoods (Week 1)"
        },
        {
            "cell_type": "markdown",
            "metadata": {},
            "source": "**Gerardo A. Navia - Part 1 : Introduction and Data Sections**"
        },
        {
            "cell_type": "code",
            "execution_count": null,
            "metadata": {},
            "outputs": [
                {
                    "name": "stdout",
                    "output_type": "stream",
                    "text": "Solving environment: / "
                }
            ],
            "source": "import numpy as np # library to handle data in a vectorized manner\nimport time\nimport pandas as pd # library for data analsysis\npd.set_option('display.max_columns', None)\npd.set_option('display.max_rows', None)\n\nimport json # library to handle JSON files\nimport requests # library to handle requests\nfrom pandas.io.json import json_normalize # tranform JSON file into a pandas dataframe\n\nfrom geopy.geocoders import Nominatim # convert an address into latitude and longitude values\n!conda install -c conda-forge folium=0.5.0 --yes # uncomment this line if you haven't completed the Foursquare API lab\nimport folium # map rendering library\n\nprint('Libraries imported.')"
        },
        {
            "cell_type": "markdown",
            "metadata": {},
            "source": "# Coursera Capstone - REPORT CONTENT"
        },
        {
            "cell_type": "markdown",
            "metadata": {},
            "source": "<ol>\n<li>Introduction Section : \u2043 Discussion of the business problem and the interested audience in this project.</li>\n<li>Data Section:</li>\n\u2043 Description of the data that will be used to solve the problem and the sources.<br>\n<li>Methodology section \u2043 Discussion and description of exploratory data analysis carried out, any inferential statistical testing</li>\nperformed, and if any machine learnings were used establishing the strategy and purposes.\n<li>Results section \u2043 Discussion of the results.</li>\n<li>Discussion section \u2043 Elaboration and discussion on any observations noted and any recommendations suggested based on the results.</li>\n<li>Conclusion section \u2043 Report Conclusion.</li>\n</ol>"
        },
        {
            "cell_type": "code",
            "execution_count": 4,
            "metadata": {},
            "outputs": [],
            "source": "# A description of the problem and a discussion of the background. (15 marks)\n"
        },
        {
            "cell_type": "markdown",
            "metadata": {},
            "source": "# 1. Introduction Section :"
        },
        {
            "cell_type": "markdown",
            "metadata": {},
            "source": "**Discussion of the business problem and the audience who would be interested in this project.**"
        },
        {
            "cell_type": "markdown",
            "metadata": {},
            "source": "**Description of the Problem and Background**"
        },
        {
            "cell_type": "markdown",
            "metadata": {},
            "source": "I am a data scientist residing in London. I currently live within walking distance to brixton station and I enjoy many ammenities and venues in the area, such as various international cousine restaurants, cafes, food shops and entertainment. I have been offered a great opportunity to work for a leader firm in Manhattan, NY. I am very excited and I want to use this opportunity to practice my learnings in Coursera in order to answer relevant questions arisen. The key question is : How can I find a convenient and enjoyable place similar to mine now in the Uk?<br> Certainly, I can use available real estate apps and Google but the idea is to use and apply myself the learned tools during the course. In order to make a comparison and evaluation of the rental options in Manhattan NY, I must set some basis, therefore the apartment in Manhattan must meet the following demands:"
        },
        {
            "cell_type": "markdown",
            "metadata": {},
            "source": "<ul>\n<li>apartment must be 2 or 3 bedrooms</li>\n<li>desired location is near a metro station in the Manhattan area and within 1.0 mile (1.6 km) radius</li>\n<li>price of rent not exceed $7,000 per month</li>\n<li>top ammenities in the selected neighborhood shall be similar to current residence</li>\n<li>desirable to have venues such as coffee shops, restaurants Asian Thai, wine stores, gym and food shops</li>\n<li>as a reference, I have included a map of venues near current residence in London</li>\n</ul>"
        },
        {
            "cell_type": "markdown",
            "metadata": {},
            "source": "**Business Problem:**"
        },
        {
            "cell_type": "markdown",
            "metadata": {},
            "source": "The challenge is to find a suitable apartment for rent in Manhattan NY that complies with the demands on location, price and venues.<br> The data required to resolve this challenge is described in the following section 2, below."
        },
        {
            "cell_type": "markdown",
            "metadata": {},
            "source": "**Interested Audience**"
        },
        {
            "cell_type": "markdown",
            "metadata": {},
            "source": "I believe this is a relevant challenge with valid questions for anyone moving to other large city in US, EU or Asia. The same<br> methodology can be applied in accordance to demands as applicable. This case is also applicable for anyone interested in exploring<br> starting or locating a new business in any city. Lastly, it can also serve as a good practical exercise to develop Data Science skills."
        },
        {
            "cell_type": "code",
            "execution_count": null,
            "metadata": {},
            "outputs": [],
            "source": "# A description of the data and how it will be used to solve the problem. (15 marks)"
        },
        {
            "cell_type": "markdown",
            "metadata": {},
            "source": "# 2. Data Section:"
        },
        {
            "cell_type": "markdown",
            "metadata": {},
            "source": "**Description of the data and its sources that will be used to solve the problem**"
        },
        {
            "cell_type": "markdown",
            "metadata": {},
            "source": "**Description of the Data:**"
        },
        {
            "cell_type": "markdown",
            "metadata": {},
            "source": "The following data is required to answer the issues of the problem:"
        },
        {
            "cell_type": "markdown",
            "metadata": {},
            "source": "<ul>\n<li>List of Boroughs and neighborhoods of Manhattan with their geodata (latitud and longitud)</li>\n<li>List of Subway metro stations in Manhattan with their address location</li>\n<li>List of apartments for rent in Manhattan area with their addresses and price</li>\n<li>Preferably, a list of apartment for rent with additional information, such as price, address, area, </li> # of beds, etc \n<li>Venues for each Manhattan neighborhood ( than can be clustered)</li>\n<li>Venues for subway metro stations, as needed</li>\n</ul>"
        },
        {
            "cell_type": "markdown",
            "metadata": {},
            "source": "**How the data will be used to solve the problem**"
        },
        {
            "cell_type": "markdown",
            "metadata": {},
            "source": "The data will be used as follows:"
        },
        {
            "cell_type": "markdown",
            "metadata": {},
            "source": "<ul>\n<li>Use Foursquare and geopy data to map top 10 venues for all Manhattan neighborhoods and clustered in groups ( as per </li> Course LAB)\n<li>Use foursquare and geopy data to map the location of subway metro stations , separately and on top of the above clustered </li>map in order to be able to identify the venues and ammenities near each metro station, or explore each subway location separately\n<li>Use Foursquare and geopy data to map the location of rental places, in some form, linked to the subway locations.</li>\n<li>create a map that depicts, for instance, the average rental price per square ft, around a radious of 1.0 mile (1.6 km) around</li> each subway station - or a similar metrics. I will be able to quickly point to the popups to know the relative price per subway area.\n<li>Addresses from rental locations will be converted to geodata( lat, long) using Geopy-distance and Nominatim.</li>\n<li>Data will be searched in open data sources if available, from real estate sites if open to reading, libraries or other </li>government agencies such as Metro New York MTA, etc."
        },
        {
            "cell_type": "markdown",
            "metadata": {},
            "source": "The procesing of these DATA will allow to answer the key questions to make a decision:"
        },
        {
            "cell_type": "markdown",
            "metadata": {},
            "source": "<ul>\n<li>what is the cost of rent (per square ft) around a mile radius from each subway metro station?</li>\n<li>what is the area of Manhattan with best rental pricing that meets criteria established?</li>\n<li>What is the distance from work place ( Park Ave and 53 rd St) and the tentative future home?</li>\n<li>What are the venues of the two best places to live? How the prices compare?</li>\n<li>How venues distribute among Manhattan neighborhoods and around metro stations?</li>\n<li>Are there tradeoffs between size and price and location?</li>\n<li>Any other interesting statistical data findings of the real estate and overall data</li>\n</ul>"
        },
        {
            "cell_type": "markdown",
            "metadata": {},
            "source": "\n**Reference of venues around current residence in Singapore for comparison to Manhattan place**"
        },
        {
            "cell_type": "code",
            "execution_count": 11,
            "metadata": {},
            "outputs": [
                {
                    "name": "stderr",
                    "output_type": "stream",
                    "text": "/opt/conda/envs/Python36/lib/python3.6/site-packages/ipykernel/__main__.py:4: DeprecationWarning: Using Nominatim with the default \"geopy/1.18.1\" `user_agent` is strongly discouraged, as it violates Nominatim's ToS https://operations.osmfoundation.org/policies/nominatim/ and may possibly cause 403 and 429 HTTP errors. Please specify a custom `user_agent` with `Nominatim(user_agent=\"my-application\")` or by overriding the default `user_agent`: `geopy.geocoders.options.default_user_agent = \"my-application\"`. In geopy 2.0 this will become an exception.\n"
                },
                {
                    "name": "stdout",
                    "output_type": "stream",
                    "text": "The geograpical coordinate of Singapore home are 1.2784801, 103.8493717.\n"
                }
            ],
            "source": "# Shenton Way, District 01, Singapore\naddress = 'Mccallum Street, Singapore'\n\ngeolocator = Nominatim()\nlocation = geolocator.geocode(address)\nlatitude = location.latitude\nlongitude = location.longitude\nprint('The geograpical coordinate of Singapore home are {}, {}.'.format(latitude, longitude))"
        },
        {
            "cell_type": "code",
            "execution_count": 12,
            "metadata": {},
            "outputs": [],
            "source": "\nneighborhood_latitude=1.2792655\nneighborhood_longitude=103.8480938"
        },
        {
            "cell_type": "code",
            "execution_count": null,
            "metadata": {},
            "outputs": [],
            "source": "# The code was removed by Watson Studio for sharing."
        },
        {
            "cell_type": "code",
            "execution_count": null,
            "metadata": {},
            "outputs": [],
            "source": "LIMIT = 100 # limit of number of venues returned by Foursquare API\nradius = 500 # define radius\n\n# create URL\nurl = 'https://api.foursquare.com/v2/venues/explore?&client_id={}&client_secret={}&v={}&ll={},{}&radius={}&limit={}'.format(\n    CLIENT_ID, \n    CLIENT_SECRET, \n    VERSION, \n    neighborhood_latitude, \n    neighborhood_longitude, \n    radius, \n    LIMIT)\nurl # display URL"
        },
        {
            "cell_type": "code",
            "execution_count": null,
            "metadata": {},
            "outputs": [],
            "source": "'https://api.foursquare.com/v2/venues/explore?&client_id=DVCTZDPDYXTS0BRJFPLMHM323APGXNWZI5PLRQ1VC0CFLF1T&client_secret=5NWAGXRLXIXAV0L3DNYY1EPIHNMAAAIZFDFELYSYXL5LFWL1&v=20180605&ll=1.2792655,103.8480938&radius=500&limit=100'"
        },
        {
            "cell_type": "code",
            "execution_count": null,
            "metadata": {},
            "outputs": [],
            "source": "results = requests.get(url).json()\n#results"
        },
        {
            "cell_type": "code",
            "execution_count": null,
            "metadata": {},
            "outputs": [],
            "source": "# function that extracts the category of the venue\ndef get_category_type(row):\n    try:\n        categories_list = row['categories']\n    except:\n        categories_list = row['venue.categories']\n        \n    if len(categories_list) == 0:\n        return None\n    else:\n        return categories_list[0]['name']"
        },
        {
            "cell_type": "code",
            "execution_count": null,
            "metadata": {},
            "outputs": [],
            "source": "venues = results['response']['groups'][0]['items']\n    \nSGnearby_venues = json_normalize(venues) # flatten JSON\n\n# filter columns\nfiltered_columns = ['venue.name', 'venue.categories', 'venue.location.lat', 'venue.location.lng']\nSGnearby_venues =SGnearby_venues.loc[:, filtered_columns]\n\n# filter the category for each row\nSGnearby_venues['venue.categories'] = SGnearby_venues.apply(get_category_type, axis=1)\n\n# clean columns\nSGnearby_venues.columns = [col.split(\".\")[-1] for col in SGnearby_venues.columns]\n\nSGnearby_venues.head(10)"
        },
        {
            "cell_type": "markdown",
            "metadata": {},
            "source": "# Map of Singapore with venues near residence place - for reference"
        },
        {
            "cell_type": "code",
            "execution_count": null,
            "metadata": {},
            "outputs": [],
            "source": "# create map of Singapore place  using latitude and longitude values\nmap_sg = folium.Map(location=[latitude, longitude], zoom_start=20)\n\n# add markers to map\nfor lat, lng, label in zip(SGnearby_venues['lat'], SGnearby_venues['lng'], SGnearby_venues['name']):\n    label = folium.Popup(label, parse_html=True)\n    folium.RegularPolygonMarker(\n        [lat, lng],\n        number_of_sides=4,\n        radius=10,\n        popup=label,\n        color='blue',\n        fill_color='#0f0f0f',\n        fill_opacity=0.7,\n    ).add_to(map_sg)  \n    \nmap_sg"
        },
        {
            "cell_type": "code",
            "execution_count": null,
            "metadata": {},
            "outputs": [],
            "source": ""
        }
    ],
    "metadata": {
        "kernelspec": {
            "display_name": "Python 3.6",
            "language": "python",
            "name": "python3"
        },
        "language_info": {
            "codemirror_mode": {
                "name": "ipython",
                "version": 3
            },
            "file_extension": ".py",
            "mimetype": "text/x-python",
            "name": "python",
            "nbconvert_exporter": "python",
            "pygments_lexer": "ipython3",
            "version": "3.6.9"
        }
    },
    "nbformat": 4,
    "nbformat_minor": 1
}